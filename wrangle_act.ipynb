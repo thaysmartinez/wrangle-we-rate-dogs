{
 "cells": [
  {
   "cell_type": "markdown",
   "metadata": {},
   "source": [
    "# Project Name"
   ]
  },
  {
   "cell_type": "markdown",
   "metadata": {},
   "source": [
    "## Introduction"
   ]
  },
  {
   "cell_type": "markdown",
   "metadata": {},
   "source": [
    "1. Introduction\n",
    "2. Gathering data\n",
    "3. Assessing data\n",
    "4. Cleaning data\n",
    "5. Storing, analyzing and visualizing wrangled data"
   ]
  },
  {
   "cell_type": "code",
   "execution_count": 31,
   "metadata": {},
   "outputs": [],
   "source": [
    "import pandas as pd\n",
    "import requests\n",
    "import os\n",
    "import tweepy\n",
    "import json\n",
    "import time"
   ]
  },
  {
   "cell_type": "markdown",
   "metadata": {},
   "source": [
    "## Gathering"
   ]
  },
  {
   "cell_type": "markdown",
   "metadata": {},
   "source": [
    "The WeRateDogs Twitter archive was made available for manual download from Udacity's Project Resources"
   ]
  },
  {
   "cell_type": "code",
   "execution_count": null,
   "metadata": {},
   "outputs": [],
   "source": [
    "df = pd.read_csv('twitter-archive-enhanced.csv')"
   ]
  },
  {
   "cell_type": "markdown",
   "metadata": {},
   "source": [
    "Hosted on Udacity's servers and download programmatically using the Requests library and the following URL: https://d17h27t6h515a5.cloudfront.net/topher/2017/August/599fd2ad_image-predictions/image-predictions.tsv"
   ]
  },
  {
   "cell_type": "code",
   "execution_count": 2,
   "metadata": {},
   "outputs": [],
   "source": [
    "# Download image-predictions.tsv file programmatically\n",
    "url = 'https://d17h27t6h515a5.cloudfront.net/topher/2017/August/599fd2ad_image-predictions/image-predictions.tsv'\n",
    "\n",
    "response = requests.get(url)\n",
    "with open(url.split('/')[-1], mode='wb') as file:\n",
    "    file.write(response.content)"
   ]
  },
  {
   "cell_type": "markdown",
   "metadata": {},
   "source": [
    "Using the tweet IDs in the WeRateDogs Twitter archive, query the Twitter API for each tweet's JSON data using Python's Tweepy library and store each tweet's entire set of JSON data in a file called tweet_json.txt file."
   ]
  },
  {
   "cell_type": "code",
   "execution_count": 3,
   "metadata": {},
   "outputs": [],
   "source": [
    "# Create Tweepy API object\n",
    "consumer_key = 'sghNXOl7D3URoUlpsOVoynzDg'\n",
    "consumer_secret = 'ydjnx4Bvf9GzEyvxhBXxnEsQdQNP7VbS1oj4tv9u9Gf2MKrPuj'\n",
    "access_token = '22273698-Ziz00jwPUaER1j6rQVlIQGEWQZmtEQEQWVkSkBZTi'\n",
    "access_secret = 'vwH8LFHDLwzauhlhShVJcnN4PKTZDfB7wmhCrE5ENug9t'\n",
    "\n",
    "auth = tweepy.OAuthHandler(consumer_key, consumer_secret)\n",
    "auth.set_access_token(access_token, access_secret)\n",
    "\n",
    "api = tweepy.API(auth, wait_on_rate_limit=True, wait_on_rate_limit_notify=True)"
   ]
  },
  {
   "cell_type": "code",
   "execution_count": 21,
   "metadata": {},
   "outputs": [
    {
     "name": "stdout",
     "output_type": "stream",
     "text": [
      "No status found with ID 888202515573088257\n",
      "No status found with ID 873697596434513921\n",
      "No status found with ID 872668790621863937\n",
      "No status found with ID 872261713294495745\n",
      "No status found with ID 869988702071779329\n",
      "No status found with ID 866816280283807744\n",
      "No status found with ID 861769973181624320\n",
      "No status found with ID 856602993587888130\n",
      "No status found with ID 851953902622658560\n",
      "No status found with ID 845459076796616705\n",
      "No status found with ID 844704788403113984\n",
      "No status found with ID 842892208864923648\n",
      "No status found with ID 837366284874571778\n",
      "No status found with ID 837012587749474308\n",
      "No status found with ID 829374341691346946\n",
      "No status found with ID 827228250799742977\n"
     ]
    },
    {
     "name": "stderr",
     "output_type": "stream",
     "text": [
      "Rate limit reached. Sleeping for: 514\n"
     ]
    },
    {
     "name": "stdout",
     "output_type": "stream",
     "text": [
      "No status found with ID 812747805718642688\n",
      "No status found with ID 802247111496568832\n",
      "No status found with ID 779123168116150273\n",
      "No status found with ID 775096608509886464\n",
      "No status found with ID 771004394259247104\n",
      "No status found with ID 770743923962707968\n",
      "No status found with ID 759566828574212096\n",
      "No status found with ID 754011816964026368\n",
      "No status found with ID 680055455951884288\n"
     ]
    },
    {
     "name": "stderr",
     "output_type": "stream",
     "text": [
      "Rate limit reached. Sleeping for: 638\n"
     ]
    },
    {
     "name": "stdout",
     "output_type": "stream",
     "text": [
      "5879.627026081085\n"
     ]
    }
   ],
   "source": [
    "# Read tweet_ids from twitter-archive-enhanced.csv file into a list\n",
    "tweet_id_list = df['tweet_id']\n",
    "\n",
    "# Query the Twitter API for each tweet's JSON data using Tweepy library\n",
    "#     and store each JSON data in the tweet_json.txt file\n",
    "data = {}\n",
    "id_errors = []\n",
    "\n",
    "start = time.time()\n",
    "\n",
    "with open('tweet_json.txt', 'w') as file:\n",
    "    for tweet_id in tweet_id_list:\n",
    "        try:\n",
    "            data = api.get_status(tweet_id, text_mode='extended')\n",
    "            file.write(json.dumps(data._json) + '\\n')\n",
    "        except Exception as e:\n",
    "            id_errors.append(print('No status found with ID {}'.format(tweet_id)))\n",
    "\n",
    "end = time.time()\n",
    "print(end - start)"
   ]
  },
  {
   "cell_type": "code",
   "execution_count": 25,
   "metadata": {},
   "outputs": [],
   "source": [
    "# Reat the tweet_json.txt file into a pandas DataFrame \n",
    "json_list = []\n",
    "\n",
    "with open('tweet_json.txt') as json_file:\n",
    "    for line in json_file:\n",
    "        data = json.loads(line)\n",
    "        tweet_id = data['id']\n",
    "        favorite_counts = data['favorite_count']\n",
    "        retweet_counts = data['retweet_count']\n",
    "        \n",
    "        json_list.append({'tweet_id': tweet_id,\n",
    "                          'favorite_counts': favorite_counts,\n",
    "                          'retweet_counts': retweet_counts})\n",
    "        \n",
    "df_tweet = pd.DataFrame(json_list, columns=['tweet_id', 'favorite_counts', 'retweet_counts'])"
   ]
  },
  {
   "cell_type": "code",
   "execution_count": 28,
   "metadata": {
    "scrolled": false
   },
   "outputs": [
    {
     "data": {
      "text/html": [
       "<div>\n",
       "<style scoped>\n",
       "    .dataframe tbody tr th:only-of-type {\n",
       "        vertical-align: middle;\n",
       "    }\n",
       "\n",
       "    .dataframe tbody tr th {\n",
       "        vertical-align: top;\n",
       "    }\n",
       "\n",
       "    .dataframe thead th {\n",
       "        text-align: right;\n",
       "    }\n",
       "</style>\n",
       "<table border=\"1\" class=\"dataframe\">\n",
       "  <thead>\n",
       "    <tr style=\"text-align: right;\">\n",
       "      <th></th>\n",
       "      <th>tweet_id</th>\n",
       "      <th>favorite_counts</th>\n",
       "      <th>retweet_counts</th>\n",
       "    </tr>\n",
       "  </thead>\n",
       "  <tbody>\n",
       "    <tr>\n",
       "      <th>0</th>\n",
       "      <td>892420643555336193</td>\n",
       "      <td>36458</td>\n",
       "      <td>7755</td>\n",
       "    </tr>\n",
       "    <tr>\n",
       "      <th>1</th>\n",
       "      <td>892177421306343426</td>\n",
       "      <td>31424</td>\n",
       "      <td>5747</td>\n",
       "    </tr>\n",
       "    <tr>\n",
       "      <th>2</th>\n",
       "      <td>891815181378084864</td>\n",
       "      <td>23664</td>\n",
       "      <td>3801</td>\n",
       "    </tr>\n",
       "    <tr>\n",
       "      <th>3</th>\n",
       "      <td>891689557279858688</td>\n",
       "      <td>39775</td>\n",
       "      <td>7912</td>\n",
       "    </tr>\n",
       "    <tr>\n",
       "      <th>4</th>\n",
       "      <td>891327558926688256</td>\n",
       "      <td>37992</td>\n",
       "      <td>8547</td>\n",
       "    </tr>\n",
       "  </tbody>\n",
       "</table>\n",
       "</div>"
      ],
      "text/plain": [
       "             tweet_id  favorite_counts  retweet_counts\n",
       "0  892420643555336193            36458            7755\n",
       "1  892177421306343426            31424            5747\n",
       "2  891815181378084864            23664            3801\n",
       "3  891689557279858688            39775            7912\n",
       "4  891327558926688256            37992            8547"
      ]
     },
     "execution_count": 28,
     "metadata": {},
     "output_type": "execute_result"
    }
   ],
   "source": [
    "df_tweet.head()"
   ]
  },
  {
   "cell_type": "markdown",
   "metadata": {},
   "source": [
    "## Assessing"
   ]
  },
  {
   "cell_type": "code",
   "execution_count": null,
   "metadata": {},
   "outputs": [],
   "source": []
  }
 ],
 "metadata": {
  "kernelspec": {
   "display_name": "Python 3",
   "language": "python",
   "name": "python3"
  },
  "language_info": {
   "codemirror_mode": {
    "name": "ipython",
    "version": 3
   },
   "file_extension": ".py",
   "mimetype": "text/x-python",
   "name": "python",
   "nbconvert_exporter": "python",
   "pygments_lexer": "ipython3",
   "version": "3.7.6"
  }
 },
 "nbformat": 4,
 "nbformat_minor": 4
}
